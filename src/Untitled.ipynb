{
 "cells": [
  {
   "cell_type": "code",
   "id": "a89700a3-1f31-4117-9ba1-6f3c6fb48ed4",
   "metadata": {
    "ExecuteTime": {
     "end_time": "2025-09-03T07:20:23.736211Z",
     "start_time": "2025-09-03T07:20:23.727856Z"
    }
   },
   "source": [
    "print(\"hello\", \"world\")"
   ],
   "outputs": [
    {
     "name": "stdout",
     "output_type": "stream",
     "text": [
      "hello world\n"
     ]
    }
   ],
   "execution_count": 1
  },
  {
   "cell_type": "code",
   "execution_count": 2,
   "id": "d66a1edd-16c9-4020-985c-7a809017ac51",
   "metadata": {},
   "outputs": [
    {
     "name": "stdout",
     "output_type": "stream",
     "text": [
      "['hello', 'world']\n"
     ]
    }
   ],
   "source": [
    "print([\"hello\", \"world\"])"
   ]
  },
  {
   "cell_type": "code",
   "execution_count": null,
   "id": "0f296c7c-6da4-462c-b373-21d130094a62",
   "metadata": {},
   "outputs": [],
   "source": []
  },
  {
   "metadata": {},
   "cell_type": "code",
   "outputs": [],
   "execution_count": null,
   "source": "",
   "id": "2553eaad8330e9c5"
  }
 ],
 "metadata": {
  "kernelspec": {
   "display_name": "Python 3 (ipykernel)",
   "language": "python",
   "name": "python3"
  },
  "language_info": {
   "codemirror_mode": {
    "name": "ipython",
    "version": 3
   },
   "file_extension": ".py",
   "mimetype": "text/x-python",
   "name": "python",
   "nbconvert_exporter": "python",
   "pygments_lexer": "ipython3",
   "version": "3.13.7"
  }
 },
 "nbformat": 4,
 "nbformat_minor": 5
}
